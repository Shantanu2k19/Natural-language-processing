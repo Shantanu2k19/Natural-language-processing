{
 "cells": [
  {
   "cell_type": "code",
   "execution_count": 1,
   "id": "820f015d",
   "metadata": {},
   "outputs": [],
   "source": [
    "import spacy\n",
    "nlp = spacy.load('en_core_web_lg')"
   ]
  },
  {
   "cell_type": "code",
   "execution_count": 4,
   "id": "b9004fc3",
   "metadata": {},
   "outputs": [
    {
     "data": {
      "text/plain": [
       "(300,)"
      ]
     },
     "execution_count": 4,
     "metadata": {},
     "output_type": "execute_result"
    }
   ],
   "source": [
    "nlp(u'the quick brown fox jumped').vector.shape"
   ]
  },
  {
   "cell_type": "code",
   "execution_count": 5,
   "id": "59af9758",
   "metadata": {},
   "outputs": [],
   "source": [
    "tokens = nlp(u'lion cat pet')"
   ]
  },
  {
   "cell_type": "code",
   "execution_count": 8,
   "id": "5ce13a39",
   "metadata": {},
   "outputs": [
    {
     "name": "stdout",
     "output_type": "stream",
     "text": [
      "lion lion 1.0\n",
      "lion cat 0.5265438\n",
      "lion pet 0.39923766\n",
      "cat lion 0.5265438\n",
      "cat cat 1.0\n",
      "cat pet 0.7505457\n",
      "pet lion 0.39923766\n",
      "pet cat 0.7505457\n",
      "pet pet 1.0\n"
     ]
    }
   ],
   "source": [
    "## how similar are the works \n",
    "for tk in tokens:\n",
    "    for tk2 in tokens:\n",
    "        print(tk.text, tk2.text, tk.similarity(tk2))"
   ]
  },
  {
   "cell_type": "code",
   "execution_count": 9,
   "id": "db7841c0",
   "metadata": {},
   "outputs": [
    {
     "name": "stdout",
     "output_type": "stream",
     "text": [
      "like like 1.0\n",
      "like love 0.657904\n",
      "like hate 0.65746516\n",
      "love like 0.657904\n",
      "love love 1.0\n",
      "love hate 0.63930994\n",
      "hate like 0.65746516\n",
      "hate love 0.63930994\n",
      "hate hate 1.0\n"
     ]
    }
   ],
   "source": [
    "tokens = nlp(u'like love hate')\n",
    "for tk in tokens:\n",
    "    for tk2 in tokens:\n",
    "        print(tk.text, tk2.text, tk.similarity(tk2))"
   ]
  },
  {
   "cell_type": "code",
   "execution_count": 13,
   "id": "06b8fbaa",
   "metadata": {},
   "outputs": [
    {
     "data": {
      "text/plain": [
       "684830"
      ]
     },
     "execution_count": 13,
     "metadata": {},
     "output_type": "execute_result"
    }
   ],
   "source": [
    "len(nlp.vocab.vectors)\n",
    "#unique words in vocabulary that we have vectors for "
   ]
  },
  {
   "cell_type": "code",
   "execution_count": 15,
   "id": "a2f58b88",
   "metadata": {},
   "outputs": [
    {
     "data": {
      "text/plain": [
       "(684830, 300)"
      ]
     },
     "execution_count": 15,
     "metadata": {},
     "output_type": "execute_result"
    }
   ],
   "source": [
    "(nlp.vocab.vectors.shape)\n",
    "#300 vectors"
   ]
  },
  {
   "cell_type": "code",
   "execution_count": 28,
   "id": "2c2f6350",
   "metadata": {},
   "outputs": [
    {
     "name": "stdout",
     "output_type": "stream",
     "text": [
      "dog True 7.0336733 False\n",
      "cat True 6.6808186 False\n",
      "shantanudhiman False 0.0 True\n"
     ]
    }
   ],
   "source": [
    "##checking for words\n",
    "token = nlp(u\"dog cat shantanudhiman\")\n",
    "for tk in token:\n",
    "    print(tk.text,tk.has_vector,tk.vector_norm, tk.is_oov)\n",
    "    ##oov out of vocab"
   ]
  },
  {
   "cell_type": "code",
   "execution_count": 29,
   "id": "729b677f",
   "metadata": {},
   "outputs": [],
   "source": [
    "from scipy import spatial\n",
    "\n",
    "cosine_similarity = lambda vec1,vec2: 1-spatial.distance.cosine(vec1,vec2)"
   ]
  },
  {
   "cell_type": "code",
   "execution_count": 30,
   "id": "911af60c",
   "metadata": {},
   "outputs": [],
   "source": [
    "king = nlp.vocab['king'].vector\n",
    "man = nlp.vocab['man'].vector\n",
    "woman = nlp.vocab['woman'].vector"
   ]
  },
  {
   "cell_type": "code",
   "execution_count": 48,
   "id": "21ed15ce",
   "metadata": {},
   "outputs": [],
   "source": [
    "## king-man+woman-> queen/princess/highness\n",
    "new_vector=king-man+woman"
   ]
  },
  {
   "cell_type": "code",
   "execution_count": 58,
   "id": "06001dc7",
   "metadata": {},
   "outputs": [],
   "source": [
    "for s in nlp.vocab.vectors:\n",
    "    _ = nlp.vocab[s]\n",
    "    \n",
    "computed_similarity = []\n",
    "\n",
    "# for all the words in my vocab\n",
    "for word in nlp.vocab:\n",
    "    if word.has_vector:\n",
    "        if word.is_lower:\n",
    "            if word.is_alpha:\n",
    "                similarity = cosine_similarity(new_vector,word.vector)\n",
    "                #find cosine similarity\n",
    "                computed_similarity.append((word,similarity))"
   ]
  },
  {
   "cell_type": "code",
   "execution_count": 59,
   "id": "eec68c14",
   "metadata": {},
   "outputs": [],
   "source": [
    "computed_similarity = sorted(computed_similarity,key=lambda item: -item[1])\n",
    "#sorting in  decending order, most similar word"
   ]
  },
  {
   "cell_type": "code",
   "execution_count": 60,
   "id": "24ada106",
   "metadata": {},
   "outputs": [
    {
     "name": "stdout",
     "output_type": "stream",
     "text": [
      "['king', 'queen', 'prince', 'kings', 'princess', 'royal', 'throne', 'queens', 'monarch', 'kingdom']\n"
     ]
    }
   ],
   "source": [
    "print( [t[0].text for t in computed_similarity[:10]])\n",
    "## we have tuple computed_sim..\n",
    "#we ask for its text for top 10 tuple in computed_similarity"
   ]
  },
  {
   "cell_type": "code",
   "execution_count": 61,
   "id": "2ad3311c",
   "metadata": {},
   "outputs": [
    {
     "data": {
      "text/plain": [
       "684830"
      ]
     },
     "execution_count": 61,
     "metadata": {},
     "output_type": "execute_result"
    }
   ],
   "source": [
    "len(nlp.vocab.vectors)"
   ]
  },
  {
   "cell_type": "code",
   "execution_count": null,
   "id": "ca8eeb02",
   "metadata": {},
   "outputs": [],
   "source": []
  }
 ],
 "metadata": {
  "kernelspec": {
   "display_name": "Python 3",
   "language": "python",
   "name": "python3"
  },
  "language_info": {
   "codemirror_mode": {
    "name": "ipython",
    "version": 3
   },
   "file_extension": ".py",
   "mimetype": "text/x-python",
   "name": "python",
   "nbconvert_exporter": "python",
   "pygments_lexer": "ipython3",
   "version": "3.8.3"
  }
 },
 "nbformat": 4,
 "nbformat_minor": 5
}
