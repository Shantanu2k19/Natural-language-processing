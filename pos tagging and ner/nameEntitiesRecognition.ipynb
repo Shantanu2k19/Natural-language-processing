{
 "cells": [
  {
   "cell_type": "code",
   "execution_count": 14,
   "id": "cad1ab20",
   "metadata": {},
   "outputs": [],
   "source": [
    "import spacy\n",
    "nlp = spacy.load('en_core_web_sm')"
   ]
  },
  {
   "cell_type": "code",
   "execution_count": 15,
   "id": "9784c6fb",
   "metadata": {},
   "outputs": [],
   "source": [
    "def show_ent(doc):\n",
    "    if doc.ents:\n",
    "        for ent in doc.ents:\n",
    "            print(ent.text,'-',ent.label_,'-',str(spacy.explain(ent.label_)))\n",
    "    else:\n",
    "        print('entities does not exist')"
   ]
  },
  {
   "cell_type": "code",
   "execution_count": 16,
   "id": "2d9d3004",
   "metadata": {},
   "outputs": [],
   "source": [
    "doc = nlp(u'Hi how are you?')"
   ]
  },
  {
   "cell_type": "code",
   "execution_count": 17,
   "id": "b483e223",
   "metadata": {},
   "outputs": [
    {
     "name": "stdout",
     "output_type": "stream",
     "text": [
      "entities does not exist\n"
     ]
    }
   ],
   "source": [
    "show_ent(doc)"
   ]
  },
  {
   "cell_type": "code",
   "execution_count": 23,
   "id": "feba1def",
   "metadata": {},
   "outputs": [],
   "source": [
    "doc = nlp(u'May I go to Washington DC next May to see the Washington Monument?')"
   ]
  },
  {
   "cell_type": "code",
   "execution_count": 24,
   "id": "a7e7771f",
   "metadata": {},
   "outputs": [
    {
     "name": "stdout",
     "output_type": "stream",
     "text": [
      "Washington DC - GPE - Countries, cities, states\n",
      "next May - DATE - Absolute or relative dates or periods\n",
      "the Washington Monument - ORG - Companies, agencies, institutions, etc.\n"
     ]
    }
   ],
   "source": [
    "show_ent(doc)"
   ]
  },
  {
   "cell_type": "code",
   "execution_count": 25,
   "id": "70de4512",
   "metadata": {},
   "outputs": [],
   "source": [
    "#name entity recognition"
   ]
  },
  {
   "cell_type": "code",
   "execution_count": 26,
   "id": "fdd926e2",
   "metadata": {},
   "outputs": [
    {
     "name": "stdout",
     "output_type": "stream",
     "text": [
      "Tesla - ORG - Companies, agencies, institutions, etc.\n",
      "1 Million dollar - MONEY - Monetary values, including unit\n"
     ]
    }
   ],
   "source": [
    "doc = nlp(u'Tesla is investing 1 Million dollar Bitcoin')\n",
    "show_ent(doc)"
   ]
  },
  {
   "cell_type": "code",
   "execution_count": 29,
   "id": "e4976632",
   "metadata": {},
   "outputs": [
    {
     "name": "stdout",
     "output_type": "stream",
     "text": [
      "Indian - NORP - Nationalities or religious or political groups\n",
      "1billion dollars - MONEY - Monetary values, including unit\n",
      "january - DATE - Absolute or relative dates or periods\n"
     ]
    }
   ],
   "source": [
    "doc = nlp(u'NeuraLink the Indian company is worth 1billion dollars after january.')\n",
    "show_ent(doc)"
   ]
  },
  {
   "cell_type": "code",
   "execution_count": 30,
   "id": "4fd69b1f",
   "metadata": {},
   "outputs": [],
   "source": [
    "#cant recognise neura link, adding it\n",
    "from spacy.tokens import Span\n",
    "ORG = doc.vocab.strings[u'ORG']"
   ]
  },
  {
   "cell_type": "code",
   "execution_count": 31,
   "id": "30387004",
   "metadata": {},
   "outputs": [
    {
     "data": {
      "text/plain": [
       "383"
      ]
     },
     "execution_count": 31,
     "metadata": {},
     "output_type": "execute_result"
    }
   ],
   "source": [
    "ORG"
   ]
  },
  {
   "cell_type": "code",
   "execution_count": 34,
   "id": "17e2c99d",
   "metadata": {},
   "outputs": [],
   "source": [
    "#ORG is having actual code of ORG entity\n",
    "new_ent = Span(doc,0,1,label=ORG)\n",
    "doc.ents = list(doc.ents)+[new_ent]"
   ]
  },
  {
   "cell_type": "code",
   "execution_count": 35,
   "id": "2f93739c",
   "metadata": {},
   "outputs": [
    {
     "name": "stdout",
     "output_type": "stream",
     "text": [
      "NeuraLink - ORG - Companies, agencies, institutions, etc.\n",
      "Indian - NORP - Nationalities or religious or political groups\n",
      "1billion dollars - MONEY - Monetary values, including unit\n",
      "january - DATE - Absolute or relative dates or periods\n"
     ]
    }
   ],
   "source": [
    "show_ent(doc)"
   ]
  },
  {
   "cell_type": "code",
   "execution_count": null,
   "id": "659e318b",
   "metadata": {},
   "outputs": [],
   "source": []
  },
  {
   "cell_type": "code",
   "execution_count": null,
   "id": "c3447bbc",
   "metadata": {},
   "outputs": [],
   "source": []
  },
  {
   "cell_type": "code",
   "execution_count": null,
   "id": "46583ada",
   "metadata": {},
   "outputs": [],
   "source": []
  },
  {
   "cell_type": "code",
   "execution_count": null,
   "id": "0210aac6",
   "metadata": {},
   "outputs": [],
   "source": []
  },
  {
   "cell_type": "code",
   "execution_count": 36,
   "id": "3ae75485",
   "metadata": {},
   "outputs": [],
   "source": [
    "##adding multiple ner"
   ]
  },
  {
   "cell_type": "code",
   "execution_count": 37,
   "id": "d84d3ce3",
   "metadata": {},
   "outputs": [],
   "source": [
    "doc = nlp(u'our company created a brand new vacuum cleaner.'\n",
    "          u'This vacuum-cleaner is the best in class.')"
   ]
  },
  {
   "cell_type": "code",
   "execution_count": 38,
   "id": "4a74cff7",
   "metadata": {},
   "outputs": [
    {
     "name": "stdout",
     "output_type": "stream",
     "text": [
      "entities does not exist\n"
     ]
    }
   ],
   "source": [
    "show_ent(doc)"
   ]
  },
  {
   "cell_type": "code",
   "execution_count": 42,
   "id": "3f654018",
   "metadata": {},
   "outputs": [],
   "source": [
    "from spacy.matcher import PhraseMatcher\n",
    "matcher = PhraseMatcher(nlp.vocab)\n",
    "#creating object\n",
    "\n",
    "phrase_list = ['vacuum-cleaner','vacuum cleaner']\n",
    "phrase_pattern = [nlp(text) for text in phrase_list]\n",
    "\n",
    "matcher.add('newProduct',None,*phrase_pattern)"
   ]
  },
  {
   "cell_type": "code",
   "execution_count": 43,
   "id": "1ce8bc9d",
   "metadata": {},
   "outputs": [
    {
     "name": "stdout",
     "output_type": "stream",
     "text": [
      "[(4452177204818730156, 6, 8), (4452177204818730156, 10, 13)]\n"
     ]
    }
   ],
   "source": [
    "found_matches = matcher(doc)\n",
    "print(found_matches)"
   ]
  },
  {
   "cell_type": "code",
   "execution_count": 44,
   "id": "4acd5770",
   "metadata": {},
   "outputs": [],
   "source": [
    "#Adding multiple named entities\n",
    "from spacy.tokens import Span\n",
    "prod = doc.vocab.strings[u'PRODUCT']"
   ]
  },
  {
   "cell_type": "code",
   "execution_count": 45,
   "id": "861c2627",
   "metadata": {},
   "outputs": [
    {
     "data": {
      "text/plain": [
       "386"
      ]
     },
     "execution_count": 45,
     "metadata": {},
     "output_type": "execute_result"
    }
   ],
   "source": [
    "prod"
   ]
  },
  {
   "cell_type": "code",
   "execution_count": 47,
   "id": "6749209e",
   "metadata": {},
   "outputs": [],
   "source": [
    "#creating spans\n",
    "new_ent = [Span(doc,match[1],match[2],label=prod) for match in found_matches]\n",
    "#new_ent is a list of\n",
    "#for every match found in found_mtches where span(match at index 1 and 2,mark with label PRODUCT) \n",
    "\n",
    "doc.ents = list(doc.ents) + new_ent"
   ]
  },
  {
   "cell_type": "code",
   "execution_count": 48,
   "id": "57418251",
   "metadata": {},
   "outputs": [
    {
     "name": "stdout",
     "output_type": "stream",
     "text": [
      "vacuum cleaner - PRODUCT - Objects, vehicles, foods, etc. (not services)\n",
      "vacuum-cleaner - PRODUCT - Objects, vehicles, foods, etc. (not services)\n"
     ]
    }
   ],
   "source": [
    "show_ent(doc)"
   ]
  },
  {
   "cell_type": "code",
   "execution_count": 60,
   "id": "f741db82",
   "metadata": {},
   "outputs": [],
   "source": [
    "doc = nlp(u\"i paid $10.21 for that coin but now it is $20. That is raised by almost 10 dollars and 20 cents.\")"
   ]
  },
  {
   "cell_type": "code",
   "execution_count": 65,
   "id": "e3e79532",
   "metadata": {},
   "outputs": [],
   "source": [
    "#we want to see, how many money tags in doc\n",
    "listt = [ent for ent in doc.ents if ent.label_ == \"MONEY\"]\n"
   ]
  },
  {
   "cell_type": "code",
   "execution_count": 66,
   "id": "1b9bc603",
   "metadata": {},
   "outputs": [
    {
     "data": {
      "text/plain": [
       "[10.21, 20, almost 10 dollars and 20 cents]"
      ]
     },
     "execution_count": 66,
     "metadata": {},
     "output_type": "execute_result"
    }
   ],
   "source": [
    "listt"
   ]
  },
  {
   "cell_type": "code",
   "execution_count": 67,
   "id": "0575a0ae",
   "metadata": {},
   "outputs": [
    {
     "data": {
      "text/plain": [
       "3"
      ]
     },
     "execution_count": 67,
     "metadata": {},
     "output_type": "execute_result"
    }
   ],
   "source": [
    "len(listt)"
   ]
  },
  {
   "cell_type": "code",
   "execution_count": 68,
   "id": "7fe2fdd9",
   "metadata": {},
   "outputs": [
    {
     "ename": "SyntaxError",
     "evalue": "invalid syntax (<ipython-input-68-603b8889b3e9>, line 1)",
     "output_type": "error",
     "traceback": [
      "\u001b[0;36m  File \u001b[0;32m\"<ipython-input-68-603b8889b3e9>\"\u001b[0;36m, line \u001b[0;32m1\u001b[0m\n\u001b[0;31m    python -m spacy info\u001b[0m\n\u001b[0m              ^\u001b[0m\n\u001b[0;31mSyntaxError\u001b[0m\u001b[0;31m:\u001b[0m invalid syntax\n"
     ]
    }
   ],
   "source": [
    "python -m spacy info"
   ]
  },
  {
   "cell_type": "code",
   "execution_count": null,
   "id": "9dbfd35f",
   "metadata": {},
   "outputs": [],
   "source": []
  }
 ],
 "metadata": {
  "kernelspec": {
   "display_name": "Python 3",
   "language": "python",
   "name": "python3"
  },
  "language_info": {
   "codemirror_mode": {
    "name": "ipython",
    "version": 3
   },
   "file_extension": ".py",
   "mimetype": "text/x-python",
   "name": "python",
   "nbconvert_exporter": "python",
   "pygments_lexer": "ipython3",
   "version": "3.8.3"
  }
 },
 "nbformat": 4,
 "nbformat_minor": 5
}
