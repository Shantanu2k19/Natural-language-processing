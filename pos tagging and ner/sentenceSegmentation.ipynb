{
 "cells": [
  {
   "cell_type": "code",
   "execution_count": 1,
   "id": "a47f975e",
   "metadata": {},
   "outputs": [],
   "source": [
    "import spacy\n",
    "nlp = spacy.load('en_core_web_sm')"
   ]
  },
  {
   "cell_type": "code",
   "execution_count": 2,
   "id": "eece505f",
   "metadata": {},
   "outputs": [],
   "source": [
    "doc = nlp(u\"This is sentence one. Sentence two. And sentence three haha.\")"
   ]
  },
  {
   "cell_type": "code",
   "execution_count": 3,
   "id": "6a5a19b6",
   "metadata": {},
   "outputs": [
    {
     "name": "stdout",
     "output_type": "stream",
     "text": [
      "This is sentence one.\n",
      "Sentence two.\n",
      "And sentence three haha.\n"
     ]
    }
   ],
   "source": [
    "for sent in doc.sents:\n",
    "    print(sent)"
   ]
  },
  {
   "cell_type": "code",
   "execution_count": 4,
   "id": "4186a38a",
   "metadata": {},
   "outputs": [],
   "source": [
    "#doc.sents doesnot store all sentences in memory , it iterates them\n",
    "#doc.sents[3] will not work"
   ]
  },
  {
   "cell_type": "code",
   "execution_count": 5,
   "id": "0e08a92f",
   "metadata": {},
   "outputs": [],
   "source": [
    "listt = list(doc.sents)"
   ]
  },
  {
   "cell_type": "code",
   "execution_count": 6,
   "id": "a06caa7a",
   "metadata": {},
   "outputs": [
    {
     "data": {
      "text/plain": [
       "list"
      ]
     },
     "execution_count": 6,
     "metadata": {},
     "output_type": "execute_result"
    }
   ],
   "source": [
    "type(listt)"
   ]
  },
  {
   "cell_type": "code",
   "execution_count": 7,
   "id": "8c3004f1",
   "metadata": {},
   "outputs": [
    {
     "data": {
      "text/plain": [
       "And sentence three haha."
      ]
     },
     "execution_count": 7,
     "metadata": {},
     "output_type": "execute_result"
    }
   ],
   "source": [
    "listt[2]"
   ]
  },
  {
   "cell_type": "code",
   "execution_count": 8,
   "id": "6b02374b",
   "metadata": {},
   "outputs": [],
   "source": [
    "## making custom sentence end\n",
    "doc = nlp(u'\"management is something; so is leadership.\" -Peter quill')"
   ]
  },
  {
   "cell_type": "code",
   "execution_count": 9,
   "id": "f3b50c08",
   "metadata": {},
   "outputs": [
    {
     "data": {
      "text/plain": [
       "'\"management is something; so is leadership.\" -Peter quill'"
      ]
     },
     "execution_count": 9,
     "metadata": {},
     "output_type": "execute_result"
    }
   ],
   "source": [
    "doc.text"
   ]
  },
  {
   "cell_type": "code",
   "execution_count": 11,
   "id": "7371b7cf",
   "metadata": {},
   "outputs": [
    {
     "name": "stdout",
     "output_type": "stream",
     "text": [
      "\"management is something; so is leadership.\"\n",
      "-Peter quill\n"
     ]
    }
   ],
   "source": [
    "for sent in doc.sents:\n",
    "    print(sent)"
   ]
  },
  {
   "cell_type": "code",
   "execution_count": 12,
   "id": "ae75a43b",
   "metadata": {},
   "outputs": [],
   "source": [
    "def sett(doc):\n",
    "    for token in doc:\n",
    "        print(token.i,' ',token)"
   ]
  },
  {
   "cell_type": "code",
   "execution_count": 13,
   "id": "26bd9ee4",
   "metadata": {},
   "outputs": [
    {
     "name": "stdout",
     "output_type": "stream",
     "text": [
      "0   \"\n",
      "1   management\n",
      "2   is\n",
      "3   something\n",
      "4   ;\n",
      "5   so\n",
      "6   is\n",
      "7   leadership\n",
      "8   .\n",
      "9   \"\n",
      "10   -Peter\n",
      "11   quill\n"
     ]
    }
   ],
   "source": [
    "sett(doc)"
   ]
  },
  {
   "cell_type": "code",
   "execution_count": null,
   "id": "332556cd",
   "metadata": {},
   "outputs": [],
   "source": []
  },
  {
   "cell_type": "code",
   "execution_count": null,
   "id": "b2299590",
   "metadata": {},
   "outputs": [],
   "source": []
  },
  {
   "cell_type": "code",
   "execution_count": null,
   "id": "05ce39ef",
   "metadata": {},
   "outputs": [],
   "source": []
  },
  {
   "cell_type": "code",
   "execution_count": null,
   "id": "6c96d70a",
   "metadata": {},
   "outputs": [],
   "source": []
  },
  {
   "cell_type": "code",
   "execution_count": 15,
   "id": "4af7b86e",
   "metadata": {},
   "outputs": [],
   "source": [
    "#ADD SEGMENTATION RULE"
   ]
  },
  {
   "cell_type": "code",
   "execution_count": 22,
   "id": "c272d676",
   "metadata": {},
   "outputs": [],
   "source": [
    "from spacy.language import Language\n",
    "@Language.component('set_custom_boundaries')\n",
    "\n",
    "def set_custom_boundaries(doc):\n",
    "    for token in doc[:-1]:\n",
    "        #-1: leaving the last token\n",
    "        if token.text == ';':\n",
    "            doc[token.i+1].is_sent_start=True\n",
    "    return doc"
   ]
  },
  {
   "cell_type": "code",
   "execution_count": 23,
   "id": "2d33afa3",
   "metadata": {},
   "outputs": [
    {
     "data": {
      "text/plain": [
       "['tok2vec',\n",
       " 'tagger',\n",
       " 'set_custom_boundaries',\n",
       " 'parser',\n",
       " 'ner',\n",
       " 'attribute_ruler',\n",
       " 'lemmatizer']"
      ]
     },
     "execution_count": 23,
     "metadata": {},
     "output_type": "execute_result"
    }
   ],
   "source": [
    "nlp.add_pipe(\"set_custom_boundaries\",before=\"parser\") \n",
    "nlp.pipe_names"
   ]
  },
  {
   "cell_type": "code",
   "execution_count": 24,
   "id": "d400445f",
   "metadata": {},
   "outputs": [
    {
     "name": "stdout",
     "output_type": "stream",
     "text": [
      "\"management is something;\n",
      "so is leadership.\"\n",
      "-Peter quill\n"
     ]
    }
   ],
   "source": [
    "##same as doc\n",
    "doc2 = nlp(u'\"management is something; so is leadership.\" -Peter quill')\n",
    "\n",
    "for sent in doc2.sents:\n",
    "    print(sent)"
   ]
  },
  {
   "cell_type": "code",
   "execution_count": 31,
   "id": "20cc8d52",
   "metadata": {},
   "outputs": [
    {
     "name": "stdout",
     "output_type": "stream",
     "text": [
      "\"management is something; so is leadership.\"\n",
      "-Peter quill\n"
     ]
    }
   ],
   "source": [
    "for sent in doc.sents:\n",
    "    print(sent)\n",
    "    \n",
    "#not showing on old text for some reason\n",
    "#but works in new doc "
   ]
  },
  {
   "cell_type": "code",
   "execution_count": 32,
   "id": "d697ec4a",
   "metadata": {},
   "outputs": [],
   "source": [
    "#to remove custom boundary\n",
    "\n",
    "#name, component = nlp.remove_pipe(\"set_custom_boundaries\")\n",
    "#assert name == \"set_custom_boundaries\"\n"
   ]
  },
  {
   "cell_type": "code",
   "execution_count": null,
   "id": "d5e622db",
   "metadata": {},
   "outputs": [],
   "source": []
  },
  {
   "cell_type": "code",
   "execution_count": null,
   "id": "c8898207",
   "metadata": {},
   "outputs": [],
   "source": []
  },
  {
   "cell_type": "code",
   "execution_count": null,
   "id": "ae728a54",
   "metadata": {},
   "outputs": [],
   "source": []
  },
  {
   "cell_type": "code",
   "execution_count": 33,
   "id": "e9e4ac10",
   "metadata": {},
   "outputs": [],
   "source": [
    "##replace default sentencizer"
   ]
  },
  {
   "cell_type": "code",
   "execution_count": null,
   "id": "46e644c7",
   "metadata": {},
   "outputs": [],
   "source": []
  },
  {
   "cell_type": "code",
   "execution_count": 34,
   "id": "453c647d",
   "metadata": {},
   "outputs": [],
   "source": [
    "nlp=spacy.load('en_core_web_sm')"
   ]
  },
  {
   "cell_type": "code",
   "execution_count": 39,
   "id": "045150b9",
   "metadata": {},
   "outputs": [],
   "source": [
    "mystring = u\"This is a sentence. This is another.\\n\\nThis is third sentence.\\nOne more.\""
   ]
  },
  {
   "cell_type": "code",
   "execution_count": 40,
   "id": "990f5d2c",
   "metadata": {},
   "outputs": [
    {
     "name": "stdout",
     "output_type": "stream",
     "text": [
      "This is a sentence. This is another.\n",
      "\n",
      "This is third sentence.\n",
      "One more.\n"
     ]
    }
   ],
   "source": [
    "print(mystring)"
   ]
  },
  {
   "cell_type": "code",
   "execution_count": 41,
   "id": "e7090f45",
   "metadata": {},
   "outputs": [
    {
     "name": "stdout",
     "output_type": "stream",
     "text": [
      "This is a sentence.\n",
      "This is another.\n",
      "\n",
      "\n",
      "This is third sentence.\n",
      "\n",
      "\n",
      "One more.\n"
     ]
    }
   ],
   "source": [
    "doc = nlp(mystring)\n",
    "for sent in doc.sents:\n",
    "    print(sent)"
   ]
  },
  {
   "cell_type": "code",
   "execution_count": 56,
   "id": "caf63ae9",
   "metadata": {},
   "outputs": [],
   "source": [
    "#changing rule\n",
    "#we want to split on \\n only\n",
    "#from spacy.pipeline import SentenceSegmenter\n",
    "from spacy.language import Language\n",
    "import re"
   ]
  },
  {
   "cell_type": "code",
   "execution_count": 57,
   "id": "9a3f4af8",
   "metadata": {},
   "outputs": [
    {
     "data": {
      "text/plain": [
       "\"\\n    start =0\\n    seen_newline = False\\n    \\n    for word in doc:\\n        if seen_newline:\\n            yield doc[start:word.i]\\n            start =word.i\\n        elif word.text.startswith('\\n'):\\n            seen_newline = True\\n        \\n    yield doc[start:]\\n\""
      ]
     },
     "execution_count": 57,
     "metadata": {},
     "output_type": "execute_result"
    }
   ],
   "source": [
    "@Language.component(\"custom_sentencizer\")\n",
    "\n",
    "def custom_sentencizer(doc):\n",
    "    for i, token in enumerate(doc[:-2]):\n",
    "        if token.text.startswith('\\n'):\n",
    "            doc[i+1].is_sent_start = True\n",
    "        else:\n",
    "            doc[i+1].is_sent_start = False\n",
    "    return doc"
   ]
  },
  {
   "cell_type": "code",
   "execution_count": 58,
   "id": "fd9cc4d3",
   "metadata": {},
   "outputs": [
    {
     "data": {
      "text/plain": [
       "<function __main__.custom_sentencizer(doc)>"
      ]
     },
     "execution_count": 58,
     "metadata": {},
     "output_type": "execute_result"
    }
   ],
   "source": [
    "nlp.add_pipe(\"custom_sentencizer\",before = \"parser\")"
   ]
  },
  {
   "cell_type": "code",
   "execution_count": 59,
   "id": "040bfe30",
   "metadata": {},
   "outputs": [
    {
     "data": {
      "text/plain": [
       "['tok2vec',\n",
       " 'tagger',\n",
       " 'custom_sentencizer',\n",
       " 'parser',\n",
       " 'ner',\n",
       " 'attribute_ruler',\n",
       " 'lemmatizer']"
      ]
     },
     "execution_count": 59,
     "metadata": {},
     "output_type": "execute_result"
    }
   ],
   "source": [
    "nlp.pipe_names"
   ]
  },
  {
   "cell_type": "code",
   "execution_count": 60,
   "id": "1f13603e",
   "metadata": {},
   "outputs": [],
   "source": [
    "mystring2 = u\"This is a sentence. This is another.\\n\\nThis is third sentence.\\nOne more.\""
   ]
  },
  {
   "cell_type": "code",
   "execution_count": 61,
   "id": "08fe4099",
   "metadata": {},
   "outputs": [
    {
     "name": "stdout",
     "output_type": "stream",
     "text": [
      "This is a sentence. This is another.\n",
      "\n",
      "\n",
      "This is third sentence.\n",
      "\n",
      "One more.\n"
     ]
    }
   ],
   "source": [
    "doc = nlp(mystring)\n",
    "for sent in doc.sents:\n",
    "    print(sent)"
   ]
  },
  {
   "cell_type": "code",
   "execution_count": 63,
   "id": "06c08f92",
   "metadata": {},
   "outputs": [],
   "source": [
    "#DELETING\n",
    "name, component = nlp.remove_pipe(\"custom_sentencizer\")\n",
    "assert name == \"custom_sentencizer\""
   ]
  },
  {
   "cell_type": "code",
   "execution_count": 64,
   "id": "13d07414",
   "metadata": {},
   "outputs": [
    {
     "name": "stdout",
     "output_type": "stream",
     "text": [
      "This is a sentence.\n",
      "This is another.\n",
      "\n",
      "\n",
      "This is third sentence.\n",
      "\n",
      "\n",
      "One more.\n"
     ]
    }
   ],
   "source": [
    "#deleted custom_sentencizer\n",
    "doc = nlp(mystring)\n",
    "for sent in doc.sents:\n",
    "    print(sent)"
   ]
  },
  {
   "cell_type": "code",
   "execution_count": null,
   "id": "e3b48298",
   "metadata": {},
   "outputs": [],
   "source": []
  }
 ],
 "metadata": {
  "kernelspec": {
   "display_name": "Python 3",
   "language": "python",
   "name": "python3"
  },
  "language_info": {
   "codemirror_mode": {
    "name": "ipython",
    "version": 3
   },
   "file_extension": ".py",
   "mimetype": "text/x-python",
   "name": "python",
   "nbconvert_exporter": "python",
   "pygments_lexer": "ipython3",
   "version": "3.8.3"
  }
 },
 "nbformat": 4,
 "nbformat_minor": 5
}
