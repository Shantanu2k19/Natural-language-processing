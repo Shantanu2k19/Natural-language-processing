{
 "cells": [
  {
   "cell_type": "code",
   "execution_count": 1,
   "id": "b862b05c",
   "metadata": {},
   "outputs": [],
   "source": [
    "import spacy"
   ]
  },
  {
   "cell_type": "code",
   "execution_count": 2,
   "id": "cab6a9e0",
   "metadata": {},
   "outputs": [],
   "source": [
    "nlp = spacy.load('en_core_web_sm')"
   ]
  },
  {
   "cell_type": "code",
   "execution_count": 3,
   "id": "3de885d4",
   "metadata": {},
   "outputs": [],
   "source": [
    "doc = nlp(u'Tesla is planning to buy startup for $6 million')"
   ]
  },
  {
   "cell_type": "code",
   "execution_count": 9,
   "id": "40d6fd59",
   "metadata": {},
   "outputs": [
    {
     "name": "stdout",
     "output_type": "stream",
     "text": [
      "Tesla ____ 96 PROPN\n",
      "is ____ 87 AUX\n",
      "planning ____ 100 VERB\n",
      "to ____ 94 PART\n",
      "buy ____ 100 VERB\n",
      "startup ____ 92 NOUN\n",
      "for ____ 85 ADP\n",
      "$ ____ 99 SYM\n",
      "6 ____ 93 NUM\n",
      "million ____ 93 NUM\n"
     ]
    }
   ],
   "source": [
    "for token in doc:\n",
    "    print(token.text,'____',token.pos,token.pos_) #part of speech"
   ]
  },
  {
   "cell_type": "code",
   "execution_count": 10,
   "id": "9ff918a4",
   "metadata": {},
   "outputs": [
    {
     "data": {
      "text/plain": [
       "[('tok2vec', <spacy.pipeline.tok2vec.Tok2Vec at 0x7f0633c8b720>),\n",
       " ('tagger', <spacy.pipeline.tagger.Tagger at 0x7f0633c45a90>),\n",
       " ('parser', <spacy.pipeline.dep_parser.DependencyParser at 0x7f0633ca7220>),\n",
       " ('ner', <spacy.pipeline.ner.EntityRecognizer at 0x7f0633ca7460>),\n",
       " ('attribute_ruler',\n",
       "  <spacy.pipeline.attributeruler.AttributeRuler at 0x7f0633bc8b80>),\n",
       " ('lemmatizer',\n",
       "  <spacy.lang.en.lemmatizer.EnglishLemmatizer at 0x7f0633bce700>)]"
      ]
     },
     "execution_count": 10,
     "metadata": {},
     "output_type": "execute_result"
    }
   ],
   "source": [
    "nlp.pipeline"
   ]
  },
  {
   "cell_type": "code",
   "execution_count": 11,
   "id": "770b8571",
   "metadata": {},
   "outputs": [
    {
     "data": {
      "text/plain": [
       "['tok2vec', 'tagger', 'parser', 'ner', 'attribute_ruler', 'lemmatizer']"
      ]
     },
     "execution_count": 11,
     "metadata": {},
     "output_type": "execute_result"
    }
   ],
   "source": [
    "nlp.pipe_names"
   ]
  },
  {
   "cell_type": "code",
   "execution_count": null,
   "id": "9bd5963e",
   "metadata": {},
   "outputs": [],
   "source": []
  },
  {
   "cell_type": "code",
   "execution_count": 13,
   "id": "816b9ec8",
   "metadata": {},
   "outputs": [
    {
     "name": "stdout",
     "output_type": "stream",
     "text": [
      "TESLA ____ 96 PROPN\n",
      "is ____ 87 AUX\n",
      "n't ____ 94 PART\n",
      "looking ____ 100 VERB\n",
      "for ____ 85 ADP\n",
      "        ____ 103 SPACE\n",
      "startups ____ 92 NOUN\n",
      "anymore ____ 86 ADV\n",
      ". ____ 97 PUNCT\n"
     ]
    }
   ],
   "source": [
    "doc2 = nlp(u\"TESLA isn't looking for        startups anymore.\")\n",
    "for token in doc2:\n",
    "    print(token.text,'____',token.pos,token.pos_) #part of speech"
   ]
  },
  {
   "cell_type": "code",
   "execution_count": 18,
   "id": "1a731ffb",
   "metadata": {},
   "outputs": [
    {
     "data": {
      "text/plain": [
       "'aux'"
      ]
     },
     "execution_count": 18,
     "metadata": {},
     "output_type": "execute_result"
    }
   ],
   "source": [
    "doc2[1].dep_  #dependencies"
   ]
  },
  {
   "cell_type": "code",
   "execution_count": 19,
   "id": "cf15675b",
   "metadata": {},
   "outputs": [
    {
     "data": {
      "text/plain": [
       "'TESLA'"
      ]
     },
     "execution_count": 19,
     "metadata": {},
     "output_type": "execute_result"
    }
   ],
   "source": [
    "doc2[0].text"
   ]
  },
  {
   "cell_type": "code",
   "execution_count": 22,
   "id": "d921703e",
   "metadata": {},
   "outputs": [
    {
     "name": "stdout",
     "output_type": "stream",
     "text": [
      "isn't looking\n"
     ]
    }
   ],
   "source": [
    "spann = doc2[1:4]\n",
    "print(spann)"
   ]
  },
  {
   "cell_type": "code",
   "execution_count": 23,
   "id": "2a215344",
   "metadata": {},
   "outputs": [
    {
     "data": {
      "text/plain": [
       "spacy.tokens.span.Span"
      ]
     },
     "execution_count": 23,
     "metadata": {},
     "output_type": "execute_result"
    }
   ],
   "source": [
    "type(spann)"
   ]
  },
  {
   "cell_type": "code",
   "execution_count": 24,
   "id": "b5552ccb",
   "metadata": {},
   "outputs": [
    {
     "data": {
      "text/plain": [
       "spacy.tokens.doc.Doc"
      ]
     },
     "execution_count": 24,
     "metadata": {},
     "output_type": "execute_result"
    }
   ],
   "source": [
    "type(doc2)"
   ]
  },
  {
   "cell_type": "code",
   "execution_count": 28,
   "id": "1e6faec0",
   "metadata": {},
   "outputs": [
    {
     "name": "stdout",
     "output_type": "stream",
     "text": [
      "sentence one.\n",
      "sentence two.\n",
      "sentence three.\n"
     ]
    }
   ],
   "source": [
    "doc3 = nlp(u'sentence one. sentence two. sentence three.')\n",
    "for sentence in doc3.sents:\n",
    "    print(sentence)"
   ]
  },
  {
   "cell_type": "code",
   "execution_count": 30,
   "id": "ed0a5cac",
   "metadata": {},
   "outputs": [
    {
     "data": {
      "text/plain": [
       "sentence"
      ]
     },
     "execution_count": 30,
     "metadata": {},
     "output_type": "execute_result"
    }
   ],
   "source": [
    "doc3[3]"
   ]
  },
  {
   "cell_type": "code",
   "execution_count": 31,
   "id": "46f7c659",
   "metadata": {},
   "outputs": [
    {
     "data": {
      "text/plain": [
       "True"
      ]
     },
     "execution_count": 31,
     "metadata": {},
     "output_type": "execute_result"
    }
   ],
   "source": [
    "doc3[3].is_sent_start"
   ]
  }
 ],
 "metadata": {
  "kernelspec": {
   "display_name": "Python 3",
   "language": "python",
   "name": "python3"
  },
  "language_info": {
   "codemirror_mode": {
    "name": "ipython",
    "version": 3
   },
   "file_extension": ".py",
   "mimetype": "text/x-python",
   "name": "python",
   "nbconvert_exporter": "python",
   "pygments_lexer": "ipython3",
   "version": "3.8.3"
  }
 },
 "nbformat": 4,
 "nbformat_minor": 5
}
