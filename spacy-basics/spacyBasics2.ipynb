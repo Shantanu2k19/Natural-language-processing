{
 "cells": [
  {
   "cell_type": "code",
   "execution_count": 1,
   "id": "e9f61d8d",
   "metadata": {},
   "outputs": [],
   "source": [
    "import spacy\n",
    "nlp = spacy.load('en_core_web_sm')"
   ]
  },
  {
   "cell_type": "code",
   "execution_count": 5,
   "id": "fc3f32ef",
   "metadata": {},
   "outputs": [],
   "source": [
    "text = '\"we\\'re moving to L.A.!\"'"
   ]
  },
  {
   "cell_type": "code",
   "execution_count": 6,
   "id": "10e833a2",
   "metadata": {},
   "outputs": [
    {
     "name": "stdout",
     "output_type": "stream",
     "text": [
      "\"we're moving to L.A.!\"\n"
     ]
    }
   ],
   "source": [
    "print(text)"
   ]
  },
  {
   "cell_type": "code",
   "execution_count": 7,
   "id": "89b5a8df",
   "metadata": {},
   "outputs": [
    {
     "name": "stdout",
     "output_type": "stream",
     "text": [
      "\"\n",
      "we\n",
      "'re\n",
      "moving\n",
      "to\n",
      "L.A.\n",
      "!\n",
      "\"\n"
     ]
    }
   ],
   "source": [
    "doc = nlp(text)\n",
    "for token in doc:\n",
    "    print(token.text)"
   ]
  },
  {
   "cell_type": "code",
   "execution_count": 8,
   "id": "bad897ce",
   "metadata": {},
   "outputs": [
    {
     "name": "stdout",
     "output_type": "stream",
     "text": [
      "Help\n",
      "!\n",
      "reach\n",
      "-\n",
      "us\n",
      "at\n",
      "yoo.com\n",
      "or\n",
      "https://heroku.com\n",
      ".\n"
     ]
    }
   ],
   "source": [
    "doc2 = nlp(u'Help! reach-us at yoo.com or https://heroku.com.')\n",
    "for t in doc2:\n",
    "    print(t)"
   ]
  },
  {
   "cell_type": "code",
   "execution_count": 16,
   "id": "8f3c74f5",
   "metadata": {},
   "outputs": [
    {
     "name": "stdout",
     "output_type": "stream",
     "text": [
      "A\n",
      "5\n",
      "km\n",
      "'\n",
      "cab\n",
      "ride\n",
      "'\n",
      "costs\n",
      "$\n",
      "13.21\n",
      "to\n",
      "St.\n",
      "Louis\n",
      "in\n",
      "U.S.\n"
     ]
    }
   ],
   "source": [
    "doc3 = nlp(u\"A 5km 'cab ride' costs $13.21 to St. Louis in U.S.\")\n",
    "for t in doc3:\n",
    "    print(t)"
   ]
  },
  {
   "cell_type": "code",
   "execution_count": 17,
   "id": "b43e7798",
   "metadata": {},
   "outputs": [
    {
     "data": {
      "text/plain": [
       "15"
      ]
     },
     "execution_count": 17,
     "metadata": {},
     "output_type": "execute_result"
    }
   ],
   "source": [
    "len(doc3)"
   ]
  },
  {
   "cell_type": "code",
   "execution_count": 18,
   "id": "cc010392",
   "metadata": {},
   "outputs": [
    {
     "data": {
      "text/plain": [
       "<spacy.vocab.Vocab at 0x7f373e1bd8b0>"
      ]
     },
     "execution_count": 18,
     "metadata": {},
     "output_type": "execute_result"
    }
   ],
   "source": [
    "doc3.vocab"
   ]
  },
  {
   "cell_type": "code",
   "execution_count": 21,
   "id": "c39ba95c",
   "metadata": {},
   "outputs": [
    {
     "data": {
      "text/plain": [
       "783"
      ]
     },
     "execution_count": 21,
     "metadata": {},
     "output_type": "execute_result"
    }
   ],
   "source": [
    "len(doc3.vocab)\n",
    "#'en_core_web_sm vocabulary' , lg has larger vocab"
   ]
  },
  {
   "cell_type": "code",
   "execution_count": 22,
   "id": "b48bb17d",
   "metadata": {},
   "outputs": [
    {
     "data": {
      "text/plain": [
       "5km"
      ]
     },
     "execution_count": 22,
     "metadata": {},
     "output_type": "execute_result"
    }
   ],
   "source": [
    "doc3[1:3]"
   ]
  },
  {
   "cell_type": "code",
   "execution_count": 26,
   "id": "a913c8e8",
   "metadata": {},
   "outputs": [
    {
     "name": "stdout",
     "output_type": "stream",
     "text": [
      "A | 5 | km | ' | cab | ride | ' | costs | $ | 13.21 | to | St. | Louis | in | U.S. | "
     ]
    }
   ],
   "source": [
    "for t in doc3:\n",
    "    print(t,end=\" | \")"
   ]
  },
  {
   "cell_type": "code",
   "execution_count": 31,
   "id": "64ad3696",
   "metadata": {},
   "outputs": [
    {
     "name": "stdout",
     "output_type": "stream",
     "text": [
      "5\n",
      "CARDINAL \n",
      " Numerals that do not fall under another type \n",
      "\n",
      "$13.21 to\n",
      "MONEY \n",
      " Monetary values, including unit \n",
      "\n",
      "St. Louis\n",
      "GPE \n",
      " Countries, cities, states \n",
      "\n",
      "U.S.\n",
      "GPE \n",
      " Countries, cities, states \n",
      "\n"
     ]
    }
   ],
   "source": [
    "for tsm in doc3.ents:\n",
    "    print(tsm)\n",
    "    print(tsm.label_,'\\n',str(spacy.explain(tsm.label_)),'\\n')"
   ]
  },
  {
   "cell_type": "code",
   "execution_count": 36,
   "id": "7d7dfac0",
   "metadata": {},
   "outputs": [
    {
     "name": "stdout",
     "output_type": "stream",
     "text": [
      "Autonomous cars\n",
      "insurance liability\n",
      "manufacturers\n"
     ]
    }
   ],
   "source": [
    "doc4 = nlp(u\"Autonomous cars shift insurance liability towards manufacturers.\")\n",
    "for chunk in doc4.noun_chunks:\n",
    "    print(chunk)\n",
    "    \n",
    "#chunk noun "
   ]
  },
  {
   "cell_type": "code",
   "execution_count": null,
   "id": "5428c295",
   "metadata": {},
   "outputs": [],
   "source": []
  }
 ],
 "metadata": {
  "kernelspec": {
   "display_name": "Python 3",
   "language": "python",
   "name": "python3"
  },
  "language_info": {
   "codemirror_mode": {
    "name": "ipython",
    "version": 3
   },
   "file_extension": ".py",
   "mimetype": "text/x-python",
   "name": "python",
   "nbconvert_exporter": "python",
   "pygments_lexer": "ipython3",
   "version": "3.8.3"
  }
 },
 "nbformat": 4,
 "nbformat_minor": 5
}
