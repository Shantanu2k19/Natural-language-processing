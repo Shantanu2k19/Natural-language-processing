{
 "cells": [
  {
   "cell_type": "code",
   "execution_count": 1,
   "id": "4a934102",
   "metadata": {},
   "outputs": [],
   "source": [
    "import spacy\n",
    "nlp = spacy.load('en_core_web_sm')"
   ]
  },
  {
   "cell_type": "code",
   "execution_count": 2,
   "id": "12c16470",
   "metadata": {},
   "outputs": [
    {
     "name": "stdout",
     "output_type": "stream",
     "text": [
      "{'which', 'to', 'mostly', 'further', 'will', 'front', 'she', 'moreover', 'n‘t', 'thereby', 'alone', 'as', 'has', 'us', 'what', 'me', 'off', 'who', 'everywhere', 'too', 'that', 'except', \"'s\", 'else', '‘m', 'themselves', 're', 'then', 'although', 'after', 'between', 'eight', 'take', \"'re\", 'part', 'per', 'above', 'our', 'thereupon', 'out', 'seems', 'it', 'where', 'among', 'in', 'whereafter', 'down', 'whither', 'much', 'been', 'beside', 'wherever', 'besides', 'nine', 'by', 'am', 'thereafter', 'all', 'seeming', 'himself', 'regarding', 'they', 'often', 'used', 'again', '’ve', 'ever', 'most', 'otherwise', 'hereupon', 'latter', 'onto', 'own', 'everything', 'through', 'but', '‘s', 'this', '’re', \"'ve\", 'already', 'somehow', 'latterly', 'why', 'sometime', 'herein', '‘ll', 'put', 'hence', 'doing', 'afterwards', 'always', 'were', 'her', 'either', 'other', 'eleven', 'for', 'whence', 'hereby', 'also', 'even', 'made', 'whatever', 'nevertheless', 'the', '’m', \"'ll\", 'enough', 'have', 'herself', 'ca', 'less', 'namely', 'sometimes', '’s', 'he', 'was', 'would', 'seemed', 'seem', 'can', 'behind', '‘ve', 'every', 'mine', 'noone', 'one', 'whole', '’d', 'somewhere', 'still', 'back', 'upon', 'because', 'over', 'your', 'under', 'being', 'from', 'just', 'very', 'them', 'when', 'perhaps', 'get', 'say', 'of', 'nobody', 'such', 'could', 'due', 'nothing', 'n’t', 'no', 'full', 'their', 'anything', 'ten', 'rather', 'anyhow', 'bottom', 'whereupon', 'fifty', 'with', 'cannot', 'whose', 'see', 'ours', 'so', 'whether', 'twenty', 'its', 'not', 'name', 'whenever', 'quite', '‘re', 'nowhere', 'forty', 'really', 'does', 'we', 'almost', 'each', 'without', 'hundred', 'an', 'any', 'his', 'must', 'elsewhere', 'across', 'or', 'than', 'yourselves', 'do', 'four', 'before', 'keep', 'ourselves', 'together', 'using', 'my', 'become', 'i', 'itself', 'whoever', 'however', 'therefore', 'did', 'became', 'call', 'myself', 'please', 'three', 'several', 'and', 'these', 'nor', 'should', 'up', 'anywhere', 'give', 'hereafter', 'during', 'indeed', 'therein', 'empty', 'formerly', 'fifteen', 'wherein', 'now', 'six', 'may', 'thence', 'becomes', 'whereby', 'anyway', 'unless', 'there', 'a', 'something', 'various', 'first', 'next', 'top', 'only', 'least', 'amount', 'whereas', 'last', 'move', 'hers', 'toward', 'others', 'though', 'at', 'along', 'done', 'is', 'yourself', 'thru', 'below', '‘d', 'someone', 'until', 'few', 'throughout', 'beyond', 'show', 'yours', 'how', 'none', 'whom', 'around', 'never', 'be', 'neither', 'those', 'might', 'meanwhile', 'twelve', 'against', 'had', \"'m\", 'amongst', 'while', 'sixty', 'many', 'thus', 'make', '’ll', 'well', 'two', 'anyone', 'same', 'some', 'becoming', 'via', 'since', 'into', \"n't\", 'here', 'are', 'on', 'within', 'him', 'beforehand', 'if', 'former', 'more', 'yet', 'five', 'everyone', 'towards', 'another', 'serious', 'go', 'third', 'side', 'you', \"'d\", 'both', 'once', 'about'}\n"
     ]
    }
   ],
   "source": [
    "#stop words in spacy\n",
    "print(nlp.Defaults.stop_words)"
   ]
  },
  {
   "cell_type": "code",
   "execution_count": 3,
   "id": "11651110",
   "metadata": {},
   "outputs": [
    {
     "data": {
      "text/plain": [
       "326"
      ]
     },
     "execution_count": 3,
     "metadata": {},
     "output_type": "execute_result"
    }
   ],
   "source": [
    "len(nlp.Defaults.stop_words)"
   ]
  },
  {
   "cell_type": "code",
   "execution_count": 10,
   "id": "86c84b52",
   "metadata": {},
   "outputs": [
    {
     "data": {
      "text/plain": [
       "True"
      ]
     },
     "execution_count": 10,
     "metadata": {},
     "output_type": "execute_result"
    }
   ],
   "source": [
    "nlp.vocab['the'].is_stop"
   ]
  },
  {
   "cell_type": "code",
   "execution_count": 12,
   "id": "5ebfe992",
   "metadata": {},
   "outputs": [],
   "source": [
    "#adding stop word\n",
    "nlp.Defaults.stop_words.add('btw')\n",
    "nlp.vocab['btw'].is_stop=True\n",
    "#added btw "
   ]
  },
  {
   "cell_type": "code",
   "execution_count": 24,
   "id": "7c18a7ed",
   "metadata": {},
   "outputs": [
    {
     "data": {
      "text/plain": [
       "327"
      ]
     },
     "execution_count": 24,
     "metadata": {},
     "output_type": "execute_result"
    }
   ],
   "source": [
    "len(nlp.Defaults.stop_words)"
   ]
  },
  {
   "cell_type": "code",
   "execution_count": 25,
   "id": "b9cde22b",
   "metadata": {},
   "outputs": [
    {
     "data": {
      "text/plain": [
       "True"
      ]
     },
     "execution_count": 25,
     "metadata": {},
     "output_type": "execute_result"
    }
   ],
   "source": [
    "nlp.vocab['btw'].is_stop"
   ]
  },
  {
   "cell_type": "code",
   "execution_count": 26,
   "id": "996508c3",
   "metadata": {},
   "outputs": [],
   "source": [
    "nlp.Defaults.stop_words.remove('btw')"
   ]
  },
  {
   "cell_type": "code",
   "execution_count": 27,
   "id": "6e817dec",
   "metadata": {},
   "outputs": [],
   "source": [
    "nlp.vocab['btw'].is_stop=False"
   ]
  },
  {
   "cell_type": "code",
   "execution_count": 28,
   "id": "bcf06d5b",
   "metadata": {},
   "outputs": [
    {
     "data": {
      "text/plain": [
       "False"
      ]
     },
     "execution_count": 28,
     "metadata": {},
     "output_type": "execute_result"
    }
   ],
   "source": [
    "nlp.vocab['btw'].is_stop"
   ]
  },
  {
   "cell_type": "code",
   "execution_count": 29,
   "id": "178df170",
   "metadata": {},
   "outputs": [
    {
     "data": {
      "text/plain": [
       "326"
      ]
     },
     "execution_count": 29,
     "metadata": {},
     "output_type": "execute_result"
    }
   ],
   "source": [
    "len(nlp.Defaults.stop_words)"
   ]
  },
  {
   "cell_type": "code",
   "execution_count": null,
   "id": "19c86535",
   "metadata": {},
   "outputs": [],
   "source": []
  }
 ],
 "metadata": {
  "kernelspec": {
   "display_name": "Python 3",
   "language": "python",
   "name": "python3"
  },
  "language_info": {
   "codemirror_mode": {
    "name": "ipython",
    "version": 3
   },
   "file_extension": ".py",
   "mimetype": "text/x-python",
   "name": "python",
   "nbconvert_exporter": "python",
   "pygments_lexer": "ipython3",
   "version": "3.8.3"
  }
 },
 "nbformat": 4,
 "nbformat_minor": 5
}
