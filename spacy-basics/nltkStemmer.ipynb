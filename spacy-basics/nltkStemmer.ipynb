{
 "cells": [
  {
   "cell_type": "code",
   "execution_count": 2,
   "id": "080129fa",
   "metadata": {},
   "outputs": [],
   "source": [
    "from nltk.stem.porter import PorterStemmer"
   ]
  },
  {
   "cell_type": "code",
   "execution_count": 4,
   "id": "1073d112",
   "metadata": {},
   "outputs": [],
   "source": [
    "p_stemmer = PorterStemmer()"
   ]
  },
  {
   "cell_type": "code",
   "execution_count": 12,
   "id": "2619f4cf",
   "metadata": {},
   "outputs": [],
   "source": [
    "words = ['run','runner','ran','runs','easily','fairly','fairness']"
   ]
  },
  {
   "cell_type": "code",
   "execution_count": 13,
   "id": "b8dcb93f",
   "metadata": {},
   "outputs": [
    {
     "name": "stdout",
     "output_type": "stream",
     "text": [
      "run----->run\n",
      "runner----->runner\n",
      "ran----->ran\n",
      "runs----->run\n",
      "easily----->easili\n",
      "fairly----->fairli\n",
      "fairness----->fair\n"
     ]
    }
   ],
   "source": [
    "# print stem of the word\n",
    "for temp in words:\n",
    "    print(temp + '----->' + p_stemmer.stem(temp))"
   ]
  },
  {
   "cell_type": "code",
   "execution_count": 14,
   "id": "a37fdeea",
   "metadata": {},
   "outputs": [],
   "source": [
    "#better version of stemmer\n",
    "from nltk.stem.snowball import SnowballStemmer"
   ]
  },
  {
   "cell_type": "code",
   "execution_count": 15,
   "id": "c48ac28b",
   "metadata": {},
   "outputs": [],
   "source": [
    "#creating an instance\n",
    "s_stemmer = SnowballStemmer(language=\"english\")"
   ]
  },
  {
   "cell_type": "code",
   "execution_count": 16,
   "id": "17fa2ebb",
   "metadata": {},
   "outputs": [
    {
     "name": "stdout",
     "output_type": "stream",
     "text": [
      "run----->run\n",
      "runner----->runner\n",
      "ran----->ran\n",
      "runs----->run\n",
      "easily----->easili\n",
      "fairly----->fair\n",
      "fairness----->fair\n"
     ]
    }
   ],
   "source": [
    "for temp in words:\n",
    "    print(temp + '----->' + s_stemmer.stem(temp))"
   ]
  },
  {
   "cell_type": "code",
   "execution_count": 17,
   "id": "38637e88",
   "metadata": {},
   "outputs": [],
   "source": [
    "words = ['generous','generate','generation','generously','general']"
   ]
  },
  {
   "cell_type": "code",
   "execution_count": 18,
   "id": "df6325c5",
   "metadata": {},
   "outputs": [
    {
     "name": "stdout",
     "output_type": "stream",
     "text": [
      "generous----->generous\n",
      "generate----->generat\n",
      "generation----->generat\n",
      "generously----->generous\n",
      "general----->general\n"
     ]
    }
   ],
   "source": [
    "for temp in words:\n",
    "    print(temp + '----->' + s_stemmer.stem(temp))"
   ]
  },
  {
   "cell_type": "code",
   "execution_count": null,
   "id": "ffe64abf",
   "metadata": {},
   "outputs": [],
   "source": []
  }
 ],
 "metadata": {
  "kernelspec": {
   "display_name": "Python 3",
   "language": "python",
   "name": "python3"
  },
  "language_info": {
   "codemirror_mode": {
    "name": "ipython",
    "version": 3
   },
   "file_extension": ".py",
   "mimetype": "text/x-python",
   "name": "python",
   "nbconvert_exporter": "python",
   "pygments_lexer": "ipython3",
   "version": "3.8.3"
  }
 },
 "nbformat": 4,
 "nbformat_minor": 5
}
