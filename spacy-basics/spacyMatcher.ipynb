{
 "cells": [
  {
   "cell_type": "code",
   "execution_count": 1,
   "id": "d36ed78f",
   "metadata": {},
   "outputs": [],
   "source": [
    "import spacy\n",
    "nlp = spacy.load('en_core_web_sm')"
   ]
  },
  {
   "cell_type": "code",
   "execution_count": 2,
   "id": "ccde54e5",
   "metadata": {},
   "outputs": [],
   "source": [
    "from spacy.matcher import Matcher"
   ]
  },
  {
   "cell_type": "code",
   "execution_count": 15,
   "id": "cdbc49f3",
   "metadata": {},
   "outputs": [],
   "source": [
    "matcher_obj = Matcher(nlp.vocab)"
   ]
  },
  {
   "cell_type": "code",
   "execution_count": 16,
   "id": "0ffb544b",
   "metadata": {},
   "outputs": [],
   "source": [
    "#SolarPower\n",
    "pattern1 = [{'LOWER':'solarpower'}]\n",
    "#convert to lower and match string\n",
    "\n",
    "#Solar-power\n",
    "pattern2 = [{'LOWER':'solar'},{'IS_PUNCT':True},{'LOWER':'power'}]\n",
    "\n",
    "#Solar power\n",
    "pattern3 = [{'LOWER':'solar'},{'LOWER':'power'}]"
   ]
  },
  {
   "cell_type": "code",
   "execution_count": 17,
   "id": "37a78ccb",
   "metadata": {},
   "outputs": [],
   "source": [
    "patterns = [\n",
    "    pattern1, pattern2, pattern3\n",
    "]\n",
    "matcher_obj.add('SolarPower',patterns)\n",
    "#3 patterns added to matcher under name SolarPower"
   ]
  },
  {
   "cell_type": "code",
   "execution_count": 18,
   "id": "3745e885",
   "metadata": {},
   "outputs": [],
   "source": [
    "doc = nlp(u\"The Solar power industry grows as solarpower increases. Solar-power is important.\")"
   ]
  },
  {
   "cell_type": "code",
   "execution_count": 23,
   "id": "dd85db73",
   "metadata": {},
   "outputs": [],
   "source": [
    "found_matches = matcher_obj(doc)"
   ]
  },
  {
   "cell_type": "code",
   "execution_count": 24,
   "id": "71424c36",
   "metadata": {},
   "outputs": [
    {
     "name": "stdout",
     "output_type": "stream",
     "text": [
      "[(8656102463236116519, 1, 3), (8656102463236116519, 6, 7), (8656102463236116519, 9, 12)]\n"
     ]
    }
   ],
   "source": [
    "print(found_matches)\n",
    "#string id, start, stop"
   ]
  },
  {
   "cell_type": "code",
   "execution_count": 26,
   "id": "38f9bad3",
   "metadata": {},
   "outputs": [
    {
     "name": "stdout",
     "output_type": "stream",
     "text": [
      "8656102463236116519 SolarPower 1 3 Solar power\n",
      "8656102463236116519 SolarPower 6 7 solarpower\n",
      "8656102463236116519 SolarPower 9 12 Solar-power\n"
     ]
    }
   ],
   "source": [
    "for idd, start,end in found_matches:\n",
    "    string_id = nlp.vocab.strings[idd]\n",
    "    index = doc[start:end]\n",
    "    print(idd, string_id, start, end, index.text)"
   ]
  },
  {
   "cell_type": "code",
   "execution_count": null,
   "id": "82c57957",
   "metadata": {},
   "outputs": [],
   "source": []
  },
  {
   "cell_type": "code",
   "execution_count": 28,
   "id": "3666e1c3",
   "metadata": {},
   "outputs": [],
   "source": [
    "#removing pattern\n",
    "matcher_obj.remove('SolarPower')"
   ]
  },
  {
   "cell_type": "code",
   "execution_count": 29,
   "id": "03b88dce",
   "metadata": {},
   "outputs": [],
   "source": [
    "# solarpower or SolarPower\n",
    "pattern1 = [{'LOWER':'solarpower'}]\n",
    "\n",
    "#solar-power\n",
    "pattern2 = [{'LOWER':'solar'},{'IS_PUNCT':True,'OP':'*'},{'LOWER':'power'}]\n",
    "#allow pattern to match 0 or more times\n",
    "\n",
    "patterns = [ pattern1, pattern2 ]"
   ]
  },
  {
   "cell_type": "code",
   "execution_count": 30,
   "id": "94ec2f34",
   "metadata": {},
   "outputs": [],
   "source": [
    "matcher_obj.add('SolarPower',patterns)"
   ]
  },
  {
   "cell_type": "code",
   "execution_count": 34,
   "id": "68e26e05",
   "metadata": {},
   "outputs": [],
   "source": [
    "doc = nlp(u\"solarpower is solar---power\")"
   ]
  },
  {
   "cell_type": "code",
   "execution_count": 35,
   "id": "4317f8e1",
   "metadata": {},
   "outputs": [],
   "source": [
    "found_matcher = matcher_obj(doc)"
   ]
  },
  {
   "cell_type": "code",
   "execution_count": 36,
   "id": "10b78b95",
   "metadata": {},
   "outputs": [
    {
     "name": "stdout",
     "output_type": "stream",
     "text": [
      "[(8656102463236116519, 0, 1), (8656102463236116519, 2, 5)]\n"
     ]
    }
   ],
   "source": [
    "print(found_matcher)"
   ]
  },
  {
   "cell_type": "code",
   "execution_count": null,
   "id": "0b0ea3f0",
   "metadata": {},
   "outputs": [],
   "source": []
  },
  {
   "cell_type": "code",
   "execution_count": null,
   "id": "5dda1384",
   "metadata": {},
   "outputs": [],
   "source": []
  },
  {
   "cell_type": "code",
   "execution_count": null,
   "id": "16aa25bd",
   "metadata": {},
   "outputs": [],
   "source": []
  },
  {
   "cell_type": "code",
   "execution_count": 37,
   "id": "684d0449",
   "metadata": {},
   "outputs": [],
   "source": [
    "###phrase matching "
   ]
  },
  {
   "cell_type": "code",
   "execution_count": 39,
   "id": "84f3f641",
   "metadata": {},
   "outputs": [],
   "source": [
    "from spacy.matcher import PhraseMatcher"
   ]
  },
  {
   "cell_type": "code",
   "execution_count": 40,
   "id": "dc7f45ef",
   "metadata": {},
   "outputs": [],
   "source": [
    "matcher_obj = PhraseMatcher(nlp.vocab)"
   ]
  },
  {
   "cell_type": "code",
   "execution_count": 48,
   "id": "09ffd6a1",
   "metadata": {
    "scrolled": true
   },
   "outputs": [],
   "source": [
    "with open('reaganomics.txt',encoding='cp1252') as f:\n",
    "    doc = nlp(f.read())"
   ]
  },
  {
   "cell_type": "code",
   "execution_count": 50,
   "id": "27382298",
   "metadata": {},
   "outputs": [],
   "source": [
    "phrase_list = ['voodoo economics','supply-side economics','trickle-down economics']"
   ]
  },
  {
   "cell_type": "code",
   "execution_count": 52,
   "id": "5862b4c9",
   "metadata": {},
   "outputs": [],
   "source": [
    "phrase_patterns = [nlp(text) for text in phrase_list]\n",
    "##making a document object model for each phrase in phrase list"
   ]
  },
  {
   "cell_type": "code",
   "execution_count": 53,
   "id": "448bf2d4",
   "metadata": {},
   "outputs": [
    {
     "data": {
      "text/plain": [
       "[voodoo economics, supply-side economics, trickle-down economics]"
      ]
     },
     "execution_count": 53,
     "metadata": {},
     "output_type": "execute_result"
    }
   ],
   "source": [
    "phrase_patterns"
   ]
  },
  {
   "cell_type": "code",
   "execution_count": 55,
   "id": "914ef46d",
   "metadata": {},
   "outputs": [
    {
     "data": {
      "text/plain": [
       "spacy.tokens.doc.Doc"
      ]
     },
     "execution_count": 55,
     "metadata": {},
     "output_type": "execute_result"
    }
   ],
   "source": [
    "type(phrase_patterns[0])"
   ]
  },
  {
   "cell_type": "code",
   "execution_count": 56,
   "id": "6ca84129",
   "metadata": {},
   "outputs": [],
   "source": [
    "matcher_obj.add('EconomicPhrases',None,*phrase_patterns)"
   ]
  },
  {
   "cell_type": "code",
   "execution_count": 57,
   "id": "7837d81c",
   "metadata": {},
   "outputs": [],
   "source": [
    "found_matches = matcher_obj(doc)"
   ]
  },
  {
   "cell_type": "code",
   "execution_count": 59,
   "id": "f6dd2aca",
   "metadata": {},
   "outputs": [
    {
     "data": {
      "text/plain": [
       "[(11765744966509160194, 41, 45),\n",
       " (11765744966509160194, 49, 53),\n",
       " (11765744966509160194, 54, 56),\n",
       " (11765744966509160194, 673, 677),\n",
       " (11765744966509160194, 2987, 2991)]"
      ]
     },
     "execution_count": 59,
     "metadata": {},
     "output_type": "execute_result"
    }
   ],
   "source": [
    "found_matches"
   ]
  },
  {
   "cell_type": "code",
   "execution_count": 61,
   "id": "c8059808",
   "metadata": {},
   "outputs": [
    {
     "name": "stdout",
     "output_type": "stream",
     "text": [
      "11765744966509160194 EconomicPhrases 41 45 policies are commonly associated with supply-side economics, referred to as trickle\n",
      "11765744966509160194 EconomicPhrases 49 53 economics, referred to as trickle-down economics or voodoo economics by political\n",
      "11765744966509160194 EconomicPhrases 54 56 trickle-down economics or voodoo economics by political opponents, and\n",
      "11765744966509160194 EconomicPhrases 673 677 attracted a following from the supply-side economics movement, which formed in\n",
      "11765744966509160194 EconomicPhrases 2987 2991 became widely known as \"trickle-down economics\", due to the\n"
     ]
    }
   ],
   "source": [
    "for idd, start,end in found_matches:\n",
    "    string_id = nlp.vocab.strings[idd]\n",
    "    index = doc[start-5:end+5] ##adding more into text \n",
    "    print(idd, string_id, start, end, index.text)"
   ]
  },
  {
   "cell_type": "code",
   "execution_count": null,
   "id": "de5b3282",
   "metadata": {},
   "outputs": [],
   "source": []
  }
 ],
 "metadata": {
  "kernelspec": {
   "display_name": "Python 3",
   "language": "python",
   "name": "python3"
  },
  "language_info": {
   "codemirror_mode": {
    "name": "ipython",
    "version": 3
   },
   "file_extension": ".py",
   "mimetype": "text/x-python",
   "name": "python",
   "nbconvert_exporter": "python",
   "pygments_lexer": "ipython3",
   "version": "3.8.3"
  }
 },
 "nbformat": 4,
 "nbformat_minor": 5
}
