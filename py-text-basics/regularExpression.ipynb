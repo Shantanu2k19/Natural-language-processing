{
 "cells": [
  {
   "cell_type": "code",
   "execution_count": 4,
   "id": "800a0f6b",
   "metadata": {},
   "outputs": [],
   "source": [
    "text = 'phone number of a someone is 123-456-7899. Call him'"
   ]
  },
  {
   "cell_type": "code",
   "execution_count": 5,
   "id": "acff84ff",
   "metadata": {},
   "outputs": [],
   "source": [
    "import re #regular expression library"
   ]
  },
  {
   "cell_type": "code",
   "execution_count": 7,
   "id": "89722c59",
   "metadata": {},
   "outputs": [
    {
     "name": "stdout",
     "output_type": "stream",
     "text": [
      "<re.Match object; span=(0, 5), match='phone'>\n"
     ]
    }
   ],
   "source": [
    "pattern = 'phone'\n",
    "match = re.search(pattern,text) #find the first occurence\n",
    "print(match)"
   ]
  },
  {
   "cell_type": "code",
   "execution_count": 8,
   "id": "b81ad0b9",
   "metadata": {},
   "outputs": [
    {
     "data": {
      "text/plain": [
       "(0, 5)"
      ]
     },
     "execution_count": 8,
     "metadata": {},
     "output_type": "execute_result"
    }
   ],
   "source": [
    "match.span()  #index from-to"
   ]
  },
  {
   "cell_type": "code",
   "execution_count": 9,
   "id": "0b76e72b",
   "metadata": {},
   "outputs": [
    {
     "name": "stdout",
     "output_type": "stream",
     "text": [
      "2\n"
     ]
    }
   ],
   "source": [
    "text2 = \"phone and phone two times\"\n",
    "all_matches = re.findall(pattern,text2)\n",
    "print(len(all_matches))"
   ]
  },
  {
   "cell_type": "code",
   "execution_count": 11,
   "id": "228b9993",
   "metadata": {},
   "outputs": [
    {
     "name": "stdout",
     "output_type": "stream",
     "text": [
      "(0, 5)\n",
      "(10, 15)\n"
     ]
    }
   ],
   "source": [
    "for match in re.finditer(pattern,text2):\n",
    "    print(match.span())"
   ]
  },
  {
   "cell_type": "code",
   "execution_count": null,
   "id": "4d5686c7",
   "metadata": {},
   "outputs": [],
   "source": []
  },
  {
   "cell_type": "code",
   "execution_count": null,
   "id": "9aadbdb7",
   "metadata": {},
   "outputs": [],
   "source": []
  },
  {
   "cell_type": "code",
   "execution_count": null,
   "id": "06df4d6c",
   "metadata": {},
   "outputs": [],
   "source": []
  },
  {
   "cell_type": "code",
   "execution_count": null,
   "id": "0cba50b7",
   "metadata": {},
   "outputs": [],
   "source": []
  },
  {
   "cell_type": "code",
   "execution_count": 13,
   "id": "2c6544ce",
   "metadata": {},
   "outputs": [],
   "source": [
    "###\n",
    "#\n",
    "# \\d :digit-              file_\\d\\d    file_22\n",
    "# \\w :alphanumeric-       \\w_\\w\\w\\w    a_bcd\n",
    "# \\s :whitespace-         a\\sb\\sc      a b c\n",
    "# \\D :non digit-          \\D\\D\\D       ABC\n",
    "# \\W :non-alphanumeric-   \\W\\W\\W       $#%\n",
    "# \\S :non-whitespace-     \\S\\S\\S       yoo\n",
    "#\n",
    "###"
   ]
  },
  {
   "cell_type": "code",
   "execution_count": 14,
   "id": "ee08acc3",
   "metadata": {},
   "outputs": [],
   "source": [
    "text = 'phone number of a someone is 123-456-7899. Call him'"
   ]
  },
  {
   "cell_type": "code",
   "execution_count": 15,
   "id": "69ec9a7a",
   "metadata": {},
   "outputs": [],
   "source": [
    "pattern = r'\\d\\d\\d-\\d\\d\\d-\\d\\d\\d\\d'"
   ]
  },
  {
   "cell_type": "code",
   "execution_count": 17,
   "id": "90a6bfd5",
   "metadata": {},
   "outputs": [],
   "source": [
    "phone = re.search(pattern,text)  #re.findall for all "
   ]
  },
  {
   "cell_type": "code",
   "execution_count": 18,
   "id": "c9104354",
   "metadata": {},
   "outputs": [
    {
     "data": {
      "text/plain": [
       "<re.Match object; span=(29, 41), match='123-456-7899'>"
      ]
     },
     "execution_count": 18,
     "metadata": {},
     "output_type": "execute_result"
    }
   ],
   "source": [
    "phone"
   ]
  },
  {
   "cell_type": "code",
   "execution_count": 19,
   "id": "21f4cdf4",
   "metadata": {},
   "outputs": [
    {
     "data": {
      "text/plain": [
       "'123-456-7899'"
      ]
     },
     "execution_count": 19,
     "metadata": {},
     "output_type": "execute_result"
    }
   ],
   "source": [
    "phone.group()    #finditer to print all"
   ]
  },
  {
   "cell_type": "code",
   "execution_count": null,
   "id": "49cf2344",
   "metadata": {},
   "outputs": [],
   "source": []
  },
  {
   "cell_type": "code",
   "execution_count": null,
   "id": "fe3295a1",
   "metadata": {},
   "outputs": [],
   "source": []
  },
  {
   "cell_type": "code",
   "execution_count": 20,
   "id": "6051854e",
   "metadata": {},
   "outputs": [
    {
     "name": "stdout",
     "output_type": "stream",
     "text": [
      "<re.Match object; span=(29, 41), match='123-456-7899'>\n"
     ]
    }
   ],
   "source": [
    "#occurence\n",
    "pattern = r'\\d{3}-\\d{3}-\\d{4}'\n",
    "print(re.search(pattern,text))"
   ]
  },
  {
   "cell_type": "code",
   "execution_count": 21,
   "id": "94b4b634",
   "metadata": {},
   "outputs": [],
   "source": [
    "#\\d{3,6}  occur 3 to 6 times"
   ]
  },
  {
   "cell_type": "code",
   "execution_count": null,
   "id": "565a452b",
   "metadata": {},
   "outputs": [],
   "source": []
  },
  {
   "cell_type": "code",
   "execution_count": null,
   "id": "ab6805f5",
   "metadata": {},
   "outputs": [],
   "source": []
  },
  {
   "cell_type": "code",
   "execution_count": null,
   "id": "4853b4d5",
   "metadata": {},
   "outputs": [],
   "source": []
  },
  {
   "cell_type": "code",
   "execution_count": null,
   "id": "d48ceb86",
   "metadata": {},
   "outputs": [],
   "source": []
  },
  {
   "cell_type": "code",
   "execution_count": null,
   "id": "8da92c3d",
   "metadata": {},
   "outputs": [],
   "source": []
  },
  {
   "cell_type": "code",
   "execution_count": null,
   "id": "378fa0be",
   "metadata": {},
   "outputs": [],
   "source": []
  },
  {
   "cell_type": "code",
   "execution_count": 22,
   "id": "3d7ee87b",
   "metadata": {},
   "outputs": [],
   "source": [
    "#REGULAR EXPRESSION 2"
   ]
  },
  {
   "cell_type": "code",
   "execution_count": 24,
   "id": "9a360d2e",
   "metadata": {},
   "outputs": [],
   "source": [
    "#groups\n",
    "text = 'phone number of a someone is 123-456-7899. Call him'"
   ]
  },
  {
   "cell_type": "code",
   "execution_count": 32,
   "id": "d7823389",
   "metadata": {},
   "outputs": [
    {
     "name": "stdout",
     "output_type": "stream",
     "text": [
      "123-456-7899 \n",
      " 123 \n",
      " 456 \n",
      " 7899\n"
     ]
    }
   ],
   "source": [
    "pattern = r'(\\d{3})-(\\d{3})-(\\d{4})'\n",
    "#groups formed using parenthesis\n",
    "\n",
    "match = re.search(pattern,text)\n",
    "print(match.group(0),'\\n',match.group(1),'\\n',match.group(2),'\\n',match.group(3))"
   ]
  },
  {
   "cell_type": "code",
   "execution_count": 33,
   "id": "085ddb88",
   "metadata": {},
   "outputs": [
    {
     "data": {
      "text/plain": [
       "<re.Match object; span=(0, 5), match='phone'>"
      ]
     },
     "execution_count": 33,
     "metadata": {},
     "output_type": "execute_result"
    }
   ],
   "source": [
    "# | operator, phone or number\n",
    "re.search(r\"phone|number\",text)"
   ]
  },
  {
   "cell_type": "code",
   "execution_count": 35,
   "id": "70f8641f",
   "metadata": {},
   "outputs": [
    {
     "data": {
      "text/plain": [
       "['phone', 'meone']"
      ]
     },
     "execution_count": 35,
     "metadata": {},
     "output_type": "execute_result"
    }
   ],
   "source": [
    "#wildcard, ending with .ne, show 3 letters before(.)\n",
    "re.findall(r'...ne',text)"
   ]
  },
  {
   "cell_type": "code",
   "execution_count": 42,
   "id": "376aa768",
   "metadata": {},
   "outputs": [
    {
     "data": {
      "text/plain": [
       "['lol']"
      ]
     },
     "execution_count": 42,
     "metadata": {},
     "output_type": "execute_result"
    }
   ],
   "source": [
    "# ^ starts with\n",
    "# $ ends with\n",
    "# for lines not individual words\n",
    "re.findall(r'lol$','number5 here lol')"
   ]
  },
  {
   "cell_type": "code",
   "execution_count": 45,
   "id": "161674f6",
   "metadata": {},
   "outputs": [
    {
     "data": {
      "text/plain": [
       "['p',\n",
       " 'h',\n",
       " 'o',\n",
       " 'n',\n",
       " 'e',\n",
       " ' ',\n",
       " 'n',\n",
       " 'u',\n",
       " 'm',\n",
       " 'b',\n",
       " 'e',\n",
       " 'r',\n",
       " ' ',\n",
       " 'o',\n",
       " 'f',\n",
       " ' ',\n",
       " 'a',\n",
       " ' ',\n",
       " 's',\n",
       " 'o',\n",
       " 'm',\n",
       " 'e',\n",
       " 'o',\n",
       " 'n',\n",
       " 'e',\n",
       " ' ',\n",
       " 'i',\n",
       " 's',\n",
       " ' ',\n",
       " '-',\n",
       " '-',\n",
       " '.',\n",
       " ' ',\n",
       " 'C',\n",
       " 'a',\n",
       " 'l',\n",
       " 'l',\n",
       " ' ',\n",
       " 'h',\n",
       " 'i',\n",
       " 'm']"
      ]
     },
     "execution_count": 45,
     "metadata": {},
     "output_type": "execute_result"
    }
   ],
   "source": [
    "re.findall(r'[^\\d]',text)\n",
    "#exclude everythin starting with number"
   ]
  },
  {
   "cell_type": "code",
   "execution_count": 50,
   "id": "d1fcf52b",
   "metadata": {},
   "outputs": [
    {
     "name": "stdout",
     "output_type": "stream",
     "text": [
      "['remove', ' punctuation']\n"
     ]
    }
   ],
   "source": [
    "text = \"remove? punctuation!\"\n",
    "listt = re.findall(r'[^!.?]+',text)\n",
    "#can be used to remove punctuation\n",
    "print(listt)"
   ]
  },
  {
   "cell_type": "code",
   "execution_count": 52,
   "id": "929e5a95",
   "metadata": {},
   "outputs": [
    {
     "data": {
      "text/plain": [
       "'remove punctuation'"
      ]
     },
     "execution_count": 52,
     "metadata": {},
     "output_type": "execute_result"
    }
   ],
   "source": [
    "''.join(listt)"
   ]
  },
  {
   "cell_type": "code",
   "execution_count": 55,
   "id": "17e95bc1",
   "metadata": {},
   "outputs": [
    {
     "data": {
      "text/plain": [
       "['find-words', 'certain-type']"
      ]
     },
     "execution_count": 55,
     "metadata": {},
     "output_type": "execute_result"
    }
   ],
   "source": [
    " text = \"find-words with certain-type of format\"\n",
    "re.findall(r'[\\w]+-[\\w]+',text)"
   ]
  }
 ],
 "metadata": {
  "kernelspec": {
   "display_name": "Python 3",
   "language": "python",
   "name": "python3"
  },
  "language_info": {
   "codemirror_mode": {
    "name": "ipython",
    "version": 3
   },
   "file_extension": ".py",
   "mimetype": "text/x-python",
   "name": "python",
   "nbconvert_exporter": "python",
   "pygments_lexer": "ipython3",
   "version": "3.8.3"
  }
 },
 "nbformat": 4,
 "nbformat_minor": 5
}
