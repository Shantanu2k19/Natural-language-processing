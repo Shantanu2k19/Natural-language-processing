{
 "cells": [
  {
   "cell_type": "code",
   "execution_count": 50,
   "id": "7bdbcb35",
   "metadata": {},
   "outputs": [
    {
     "name": "stdout",
     "output_type": "stream",
     "text": [
      "Overwriting name.txt\n"
     ]
    }
   ],
   "source": [
    "%%writefile name.txt\n",
    "making a new file\n",
    "adding text to it"
   ]
  },
  {
   "cell_type": "code",
   "execution_count": 51,
   "id": "f9fa5d29",
   "metadata": {},
   "outputs": [],
   "source": [
    "f = open('name.txt')\n",
    "#f2 = open(\"/home/zodiac/Desktop/file.txt\")\n",
    "#using path"
   ]
  },
  {
   "cell_type": "code",
   "execution_count": 7,
   "id": "af9440e0",
   "metadata": {},
   "outputs": [
    {
     "data": {
      "text/plain": [
       "'any text\\nsencond line |\\n'"
      ]
     },
     "execution_count": 7,
     "metadata": {},
     "output_type": "execute_result"
    }
   ],
   "source": [
    "f.read()"
   ]
  },
  {
   "cell_type": "code",
   "execution_count": 52,
   "id": "e8acbd4f",
   "metadata": {},
   "outputs": [
    {
     "data": {
      "text/plain": [
       "'making a new file\\nadding text to it\\n'"
      ]
     },
     "execution_count": 52,
     "metadata": {},
     "output_type": "execute_result"
    }
   ],
   "source": [
    "f.read()\n",
    "#pointer to eof now, have to seek back to top"
   ]
  },
  {
   "cell_type": "code",
   "execution_count": 10,
   "id": "772fbc80",
   "metadata": {},
   "outputs": [
    {
     "data": {
      "text/plain": [
       "0"
      ]
     },
     "execution_count": 10,
     "metadata": {},
     "output_type": "execute_result"
    }
   ],
   "source": [
    "f.seek(0)"
   ]
  },
  {
   "cell_type": "code",
   "execution_count": 11,
   "id": "ba42db55",
   "metadata": {},
   "outputs": [
    {
     "data": {
      "text/plain": [
       "'any text\\nsencond line |\\n'"
      ]
     },
     "execution_count": 11,
     "metadata": {},
     "output_type": "execute_result"
    }
   ],
   "source": [
    "f.read()"
   ]
  },
  {
   "cell_type": "code",
   "execution_count": 14,
   "id": "12c23489",
   "metadata": {},
   "outputs": [
    {
     "data": {
      "text/plain": [
       "0"
      ]
     },
     "execution_count": 14,
     "metadata": {},
     "output_type": "execute_result"
    }
   ],
   "source": [
    "f.seek(0)"
   ]
  },
  {
   "cell_type": "code",
   "execution_count": 15,
   "id": "de713664",
   "metadata": {},
   "outputs": [
    {
     "name": "stdout",
     "output_type": "stream",
     "text": [
      "any text\n",
      "sencond line |\n",
      "\n"
     ]
    }
   ],
   "source": [
    "print(f.read())"
   ]
  },
  {
   "cell_type": "code",
   "execution_count": 16,
   "id": "8b36322f",
   "metadata": {},
   "outputs": [],
   "source": [
    "f.close()"
   ]
  },
  {
   "cell_type": "code",
   "execution_count": 18,
   "id": "64d9e6ce",
   "metadata": {},
   "outputs": [],
   "source": [
    "f = open('name.txt')"
   ]
  },
  {
   "cell_type": "code",
   "execution_count": 19,
   "id": "48ecad3a",
   "metadata": {},
   "outputs": [
    {
     "data": {
      "text/plain": [
       "['any text\\n', 'sencond line |\\n']"
      ]
     },
     "execution_count": 19,
     "metadata": {},
     "output_type": "execute_result"
    }
   ],
   "source": [
    "f.readlines()"
   ]
  },
  {
   "cell_type": "code",
   "execution_count": 20,
   "id": "08e660be",
   "metadata": {},
   "outputs": [
    {
     "name": "stdout",
     "output_type": "stream",
     "text": [
      "[]\n"
     ]
    }
   ],
   "source": [
    "print(f.readlines())"
   ]
  },
  {
   "cell_type": "code",
   "execution_count": 26,
   "id": "3933c300",
   "metadata": {},
   "outputs": [],
   "source": [
    "f.close()\n"
   ]
  },
  {
   "cell_type": "code",
   "execution_count": 27,
   "id": "6249fed2",
   "metadata": {},
   "outputs": [],
   "source": [
    "f = open('name.txt','w+')\n",
    "#completely overwrites"
   ]
  },
  {
   "cell_type": "code",
   "execution_count": 28,
   "id": "aee64e6d",
   "metadata": {},
   "outputs": [
    {
     "data": {
      "text/plain": [
       "''"
      ]
     },
     "execution_count": 28,
     "metadata": {},
     "output_type": "execute_result"
    }
   ],
   "source": [
    "f.read()"
   ]
  },
  {
   "cell_type": "code",
   "execution_count": 29,
   "id": "48ba5de7",
   "metadata": {},
   "outputs": [
    {
     "data": {
      "text/plain": [
       "10"
      ]
     },
     "execution_count": 29,
     "metadata": {},
     "output_type": "execute_result"
    }
   ],
   "source": [
    "f.write('text added')"
   ]
  },
  {
   "cell_type": "code",
   "execution_count": 30,
   "id": "82e80cc8",
   "metadata": {},
   "outputs": [
    {
     "data": {
      "text/plain": [
       "''"
      ]
     },
     "execution_count": 30,
     "metadata": {},
     "output_type": "execute_result"
    }
   ],
   "source": [
    "f.read()"
   ]
  },
  {
   "cell_type": "code",
   "execution_count": 31,
   "id": "d9946440",
   "metadata": {},
   "outputs": [
    {
     "data": {
      "text/plain": [
       "0"
      ]
     },
     "execution_count": 31,
     "metadata": {},
     "output_type": "execute_result"
    }
   ],
   "source": [
    "f.seek(0)"
   ]
  },
  {
   "cell_type": "code",
   "execution_count": 32,
   "id": "4f6adf89",
   "metadata": {},
   "outputs": [
    {
     "data": {
      "text/plain": [
       "'text added'"
      ]
     },
     "execution_count": 32,
     "metadata": {},
     "output_type": "execute_result"
    }
   ],
   "source": [
    "f.read()"
   ]
  },
  {
   "cell_type": "code",
   "execution_count": 33,
   "id": "56d3576b",
   "metadata": {},
   "outputs": [],
   "source": [
    "f.close()"
   ]
  },
  {
   "cell_type": "code",
   "execution_count": 34,
   "id": "f66764b1",
   "metadata": {},
   "outputs": [],
   "source": [
    "f = open('name.txt','a+')\n",
    "#append, to end\n",
    "#creates new if does not exist"
   ]
  },
  {
   "cell_type": "code",
   "execution_count": 35,
   "id": "789ada03",
   "metadata": {},
   "outputs": [
    {
     "data": {
      "text/plain": [
       "17"
      ]
     },
     "execution_count": 35,
     "metadata": {},
     "output_type": "execute_result"
    }
   ],
   "source": [
    "f.write('Another line haha')"
   ]
  },
  {
   "cell_type": "code",
   "execution_count": 36,
   "id": "e04ceed3",
   "metadata": {},
   "outputs": [
    {
     "data": {
      "text/plain": [
       "''"
      ]
     },
     "execution_count": 36,
     "metadata": {},
     "output_type": "execute_result"
    }
   ],
   "source": [
    "f.read()"
   ]
  },
  {
   "cell_type": "code",
   "execution_count": 37,
   "id": "4496034c",
   "metadata": {},
   "outputs": [
    {
     "data": {
      "text/plain": [
       "0"
      ]
     },
     "execution_count": 37,
     "metadata": {},
     "output_type": "execute_result"
    }
   ],
   "source": [
    "f.seek(0)"
   ]
  },
  {
   "cell_type": "code",
   "execution_count": 38,
   "id": "c7e67fcb",
   "metadata": {},
   "outputs": [
    {
     "data": {
      "text/plain": [
       "'text addedAnother line haha'"
      ]
     },
     "execution_count": 38,
     "metadata": {},
     "output_type": "execute_result"
    }
   ],
   "source": [
    "f.read()"
   ]
  },
  {
   "cell_type": "code",
   "execution_count": 39,
   "id": "1a59050d",
   "metadata": {},
   "outputs": [],
   "source": [
    "f.close()"
   ]
  },
  {
   "cell_type": "code",
   "execution_count": 40,
   "id": "fc6d2d8f",
   "metadata": {},
   "outputs": [],
   "source": [
    "f = open('name.txt')"
   ]
  },
  {
   "cell_type": "code",
   "execution_count": 41,
   "id": "3e9922a7",
   "metadata": {},
   "outputs": [
    {
     "data": {
      "text/plain": [
       "'text addedAnother line haha'"
      ]
     },
     "execution_count": 41,
     "metadata": {},
     "output_type": "execute_result"
    }
   ],
   "source": [
    "f.read()"
   ]
  },
  {
   "cell_type": "code",
   "execution_count": 42,
   "id": "015b9ac8",
   "metadata": {},
   "outputs": [],
   "source": [
    "f.close()"
   ]
  },
  {
   "cell_type": "code",
   "execution_count": 47,
   "id": "d34b33fb",
   "metadata": {},
   "outputs": [
    {
     "name": "stdout",
     "output_type": "stream",
     "text": [
      "['text addedAnother line haha']\n"
     ]
    }
   ],
   "source": [
    "with open('name.txt') as f:\n",
    "    okk = f.readlines()\n",
    "    print(okk)"
   ]
  },
  {
   "cell_type": "code",
   "execution_count": 48,
   "id": "407add43",
   "metadata": {},
   "outputs": [
    {
     "data": {
      "text/plain": [
       "['text addedAnother line haha']"
      ]
     },
     "execution_count": 48,
     "metadata": {},
     "output_type": "execute_result"
    }
   ],
   "source": [
    "okk"
   ]
  },
  {
   "cell_type": "code",
   "execution_count": 49,
   "id": "245b8ca0",
   "metadata": {},
   "outputs": [
    {
     "data": {
      "text/plain": [
       "<_io.TextIOWrapper name='name.txt' mode='r' encoding='UTF-8'>"
      ]
     },
     "execution_count": 49,
     "metadata": {},
     "output_type": "execute_result"
    }
   ],
   "source": [
    "f"
   ]
  },
  {
   "cell_type": "code",
   "execution_count": null,
   "id": "d2ba18ed",
   "metadata": {},
   "outputs": [],
   "source": []
  }
 ],
 "metadata": {
  "kernelspec": {
   "display_name": "Python 3",
   "language": "python",
   "name": "python3"
  },
  "language_info": {
   "codemirror_mode": {
    "name": "ipython",
    "version": 3
   },
   "file_extension": ".py",
   "mimetype": "text/x-python",
   "name": "python",
   "nbconvert_exporter": "python",
   "pygments_lexer": "ipython3",
   "version": "3.8.3"
  }
 },
 "nbformat": 4,
 "nbformat_minor": 5
}
